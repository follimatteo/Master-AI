{
 "cells": [
  {
   "cell_type": "code",
   "execution_count": 1,
   "metadata": {},
   "outputs": [],
   "source": [
    "from minizinc import Instance, Model, Solver\n",
    "import time\n",
    "from datetime import timedelta\n",
    "import argparse"
   ]
  },
  {
   "cell_type": "code",
   "execution_count": 5,
   "metadata": {},
   "outputs": [],
   "source": [
    "def txt_to_data(file_name):\n",
    "    data = {}\n",
    "    \n",
    "    f = open(file_name, \"r\")\n",
    "    line= f.readline().split()\n",
    "    data['W'] = int(line[0])\n",
    "    data['H'] = int(line[1])\n",
    "    \n",
    "    \n",
    "    f.close()\n",
    "    return data\n",
    "    "
   ]
  },
  {
   "cell_type": "code",
   "execution_count": 6,
   "metadata": {},
   "outputs": [
    {
     "name": "stdout",
     "output_type": "stream",
     "text": [
      "['8', '8']\n"
     ]
    }
   ],
   "source": [
    "txt_to_data(\"Instances\\8x8.txt\")"
   ]
  },
  {
   "cell_type": "markdown",
   "metadata": {},
   "source": [
    "# Model:"
   ]
  },
  {
   "cell_type": "code",
   "execution_count": null,
   "metadata": {},
   "outputs": [],
   "source": [
    "\n",
    "PWP = Model()\n",
    "PWP.add_string(\n",
    "    '''\n",
    "    include \"globals.mzn\";\n",
    "\n",
    "    int: W;\n",
    "    int: H;\n",
    "\n",
    "    int: n_box;\n",
    "\n",
    "    array[1..n_box] of int: box_dx;\n",
    "    array[1..n_box] of int: box_dy;\n",
    "\n",
    "    array[1..n_box] of var 1..W: p_x;\n",
    "    array[1..n_box] of var 1..H: p_y;\n",
    "\n",
    "    array[1..W,1..H] of var 0..n_box: box;\n",
    "\n",
    "    constraint \n",
    "      forall(i in 1..n_box)(\n",
    "        forall(x in 0..box_dx[i]-1)(\n",
    "          forall(y in 0..box_dy[i]-1)(\n",
    "            (box[p_x[i]+x, p_y[i]+y] == i))));\n",
    "    '''\n",
    ")\n",
    "\n",
    "# Find the MiniZinc solver configuration for Gecode\n",
    "gecode = Solver.lookup(\"gecode\")\n",
    "# Create an Instance of the n-Queens model for Gecode\n",
    "instance = Instance(gecode, PWP)\n",
    "# Assign 4 to n\n",
    "instance[\"n\"] = NQ\n",
    "start_time = time.time()\n",
    "result = instance.solve(all_solutions=allsol, timeout = timeout)\n",
    "# Output the array q\n",
    "print(\"\\n\")\n",
    "print(\"Raw model:\")\n",
    "print(\"Resolved in --- %s seconds ---\" % (time.time() - start_time))"
   ]
  },
  {
   "cell_type": "code",
   "execution_count": null,
   "metadata": {},
   "outputs": [],
   "source": []
  },
  {
   "cell_type": "code",
   "execution_count": null,
   "metadata": {},
   "outputs": [],
   "source": []
  }
 ],
 "metadata": {
  "kernelspec": {
   "display_name": "Python 3",
   "language": "python",
   "name": "python3"
  },
  "language_info": {
   "codemirror_mode": {
    "name": "ipython",
    "version": 3
   },
   "file_extension": ".py",
   "mimetype": "text/x-python",
   "name": "python",
   "nbconvert_exporter": "python",
   "pygments_lexer": "ipython3",
   "version": "3.7.3"
  }
 },
 "nbformat": 4,
 "nbformat_minor": 2
}
